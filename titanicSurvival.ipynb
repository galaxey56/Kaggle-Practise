{
 "cells": [
  {
   "cell_type": "code",
   "execution_count": 40,
   "id": "e83c1000",
   "metadata": {},
   "outputs": [],
   "source": [
    "import pandas as pd\n",
    "import numpy as np\n",
    "from sklearn.linear_model import LogisticRegression\n",
    "from sklearn.ensemble import RandomForestClassifier\n",
    "from sklearn.model_selection import train_test_split, cross_val_score"
   ]
  },
  {
   "cell_type": "code",
   "execution_count": 41,
   "id": "ad4821f3",
   "metadata": {},
   "outputs": [],
   "source": [
    "from sklearn.model_selection import RandomizedSearchCV, GridSearchCV"
   ]
  },
  {
   "cell_type": "code",
   "execution_count": 42,
   "id": "2c417cc6",
   "metadata": {},
   "outputs": [],
   "source": [
    "df = pd.read_csv(\"train.csv\")"
   ]
  },
  {
   "cell_type": "code",
   "execution_count": 44,
   "id": "aa38659c",
   "metadata": {},
   "outputs": [],
   "source": [
    "import pickle"
   ]
  },
  {
   "cell_type": "code",
   "execution_count": 45,
   "id": "69a163c1",
   "metadata": {},
   "outputs": [],
   "source": [
    "model = pickle.load(open(\"used_model.pkl\", \"rb\"))"
   ]
  },
  {
   "cell_type": "code",
   "execution_count": 46,
   "id": "624e2afd",
   "metadata": {},
   "outputs": [],
   "source": [
    "check = pd.read_csv(\"test.csv\")"
   ]
  },
  {
   "cell_type": "code",
   "execution_count": 47,
   "id": "2adea552",
   "metadata": {},
   "outputs": [],
   "source": [
    "for label, content in check.items():\n",
    "    if pd.api.types.is_string_dtype(content):\n",
    "        check[label] = content.astype(\"category\").cat.as_ordered()\n",
    "\n",
    "for label, content in check.items():\n",
    "    if pd.api.types.is_numeric_dtype(content):\n",
    "        if pd.isnull(content).sum():\n",
    "            check[label] = 0\n",
    "            \n",
    "for label, content in check.items():\n",
    "    if not pd.api.types.is_numeric_dtype(content):\n",
    "        check[label+\"_is_missing\"] = pd.isnull(content)\n",
    "        check[label] = pd.Categorical(content).codes + 1"
   ]
  },
  {
   "cell_type": "code",
   "execution_count": 48,
   "id": "6013b05b",
   "metadata": {},
   "outputs": [],
   "source": [
    "ans1 = cat_model.predict(check)"
   ]
  },
  {
   "cell_type": "code",
   "execution_count": 49,
   "id": "a3b187d5",
   "metadata": {},
   "outputs": [],
   "source": [
    "cat1 = pd.DataFrame()\n",
    "cat1[\"PassengerId\"] = check[\"PassengerId\"]\n",
    "cat1[\"Survived\"] = ans1"
   ]
  },
  {
   "cell_type": "code",
   "execution_count": null,
   "id": "bc74d744",
   "metadata": {},
   "outputs": [],
   "source": [
    "cat1.to_csv(\"sample\")"
   ]
  }
 ],
 "metadata": {
  "kernelspec": {
   "display_name": "Python 3 (ipykernel)",
   "language": "python",
   "name": "python3"
  },
  "language_info": {
   "codemirror_mode": {
    "name": "ipython",
    "version": 3
   },
   "file_extension": ".py",
   "mimetype": "text/x-python",
   "name": "python",
   "nbconvert_exporter": "python",
   "pygments_lexer": "ipython3",
   "version": "3.9.6"
  }
 },
 "nbformat": 4,
 "nbformat_minor": 5
}
